{
 "cells": [
  {
   "cell_type": "markdown",
   "metadata": {},
   "source": [
    "# Ground-State Variational Search with NetKet for a Bosonic Matrix Model\n",
    "\n",
    "Enrico Rinaldi, March 1, 2022 \n",
    "\n",
    "In this Tutorial we will use the open-source package [NetKet](https://www.netket.org/) to find the ground state (in a variational sense) of a quantum mechanical system of matrices.\n",
    "This system is referred to as a free bosonic matrix model and was studied in [this PRX Quantum paper](https://journals.aps.org/prxquantum/abstract/10.1103/PRXQuantum.3.010324) using quantum technologies (e.g. based on [qutip](https://qutip.org) and [qiskit](https://qiskit.org)) and Lattice Monte Carlo methods. \n",
    "\n",
    "Specifically, we will study the system defined by the Hamiltonian: \n",
    "\n",
    "$$ \\hat{H} = {\\rm Tr}\\left(\\frac{1}{2}\\hat{P}_I^2+\\frac{m^2}{2}\\hat{X}_I^2-\\frac{g^2}{4}[\\hat{X}_I,\\hat{X}_J]^2\\right) $$\n",
    "\n",
    "where \n",
    "$$\\hat{P}_I=\\sum_{\\alpha=1}^{N^2-1}\\hat{P}_I^\\alpha\\tau_\\alpha$$\n",
    "\n",
    "and\n",
    "\n",
    "$$\\hat{X}_I=\\sum_{\\alpha=1}^{N^2-1}\\hat{X}_I^\\alpha\\tau_\\alpha$$\n",
    "\n",
    "for a SU(N) gauge group with $N^2-1$ generators $\\tau_\\alpha$ (normalized such that ${\\rm Tr}(\\tau_\\alpha \\tau_\\beta) = \\delta_{\\alpha\\beta}$).\n",
    "In the Hamiltonian, $g^2$ is the coupling constant representing the strenght of the interaction between matrices $X_I$. The physical states of this system are gauge singlets.\n",
    "\n",
    "For a full tutorial on the \"free\" case of $g^2=0$ see [this notebook](./gs_free_matrix_models.ipynb)."
   ]
  },
  {
   "cell_type": "markdown",
   "metadata": {},
   "source": [
    "## 0. Installing Netket \n",
    "\n",
    "Installing NetKet is relatively straightforward. For this tutorial, if you are running it locally on your machine, we recommend that you create a clean virtual environment (e.g. with `conda`) and install `NetKet` within (using `pip`): \n",
    "\n",
    "```bash\n",
    "conda create --name netket python pip ipython\n",
    "conda activate netket\n",
    "pip install --upgrade netket\n",
    "```\n",
    "\n",
    "**If you are on Google Colab**, uncomment and run the following cell to install the required packages."
   ]
  },
  {
   "cell_type": "code",
   "execution_count": null,
   "metadata": {},
   "outputs": [],
   "source": [
    "#!pip install --upgrade netket"
   ]
  },
  {
   "cell_type": "markdown",
   "metadata": {},
   "source": [
    "You can check that the installation was succesfull doing "
   ]
  },
  {
   "cell_type": "code",
   "execution_count": 1,
   "metadata": {},
   "outputs": [],
   "source": [
    "import netket as nk"
   ]
  },
  {
   "cell_type": "markdown",
   "metadata": {},
   "source": [
    "You should also check that your version of netket is at least 3.0"
   ]
  },
  {
   "cell_type": "code",
   "execution_count": 2,
   "metadata": {},
   "outputs": [
    {
     "name": "stdout",
     "output_type": "stream",
     "text": [
      "NetKet version: 3.3.2.post2\n"
     ]
    }
   ],
   "source": [
    "print(f\"NetKet version: {nk.__version__}\")"
   ]
  },
  {
   "cell_type": "code",
   "execution_count": 3,
   "id": "8285c606",
   "metadata": {},
   "outputs": [
    {
     "name": "stdout",
     "output_type": "stream",
     "text": [
      "====================================================\n",
      "==         NetKet Diagnostic Informations         ==\n",
      "====================================================\n",
      "NetKet version       : 3.3.2.post2\n",
      "\n",
      "# Python\n",
      "  - implementation   : CPython\n",
      "  - version          : 3.9.6\n",
      "  - distribution     : GCC 7.5.0\n",
      "  - path             : /home/enrico/miniconda3/envs/netket/bin/python\n",
      "\n",
      "# Host informations\n",
      "  - System           : Linux-5.13.0-30-generic-x86_64-with-glibc2.31\n",
      "  - Architecture     : x86_64\n",
      "  - AVX              : True\n",
      "  - AVX2             : True\n",
      "  - Cores            : 12\n",
      "\n",
      "# NetKet dependencies\n",
      "  - numpy            : 1.20.3\n",
      "  - jaxlib           : 0.3.0\n",
      "  - jax              : 0.3.1\n",
      "  - flax             : 0.4.0\n",
      "  - optax            : 0.1.1\n",
      "  - numba            : 0.54.0\n",
      "  - mpi4py           : unavailable\n",
      "  - mpi4jax          : unavailable\n",
      "  - netket           : 3.3.2.post2\n",
      "\n",
      "# Jax \n",
      "WARNING:absl:No GPU/TPU found, falling back to CPU. (Set TF_CPP_MIN_LOG_LEVEL=0 and rerun for more info.)\n",
      "  - backends         : ['cpu']\n",
      "    - cpu            : ['<0: cpu>']\n",
      "\n"
     ]
    }
   ],
   "source": [
    "!python -m netket.tools.info"
   ]
  },
  {
   "cell_type": "code",
   "execution_count": 4,
   "metadata": {},
   "outputs": [],
   "source": [
    "import numpy as np\n",
    "import matplotlib.pyplot as plt"
   ]
  },
  {
   "cell_type": "markdown",
   "metadata": {},
   "source": [
    "## 1. Defining The Hamiltonian\n",
    "\n",
    "The first step in our journey consists in defining the Hamiltonian we are interested in. \n",
    "For this purpose, we first need to define the kind of degrees of freedom we are dealing with (i.e. if we have spins, bosons, fermions etc). \n",
    "This is done by specifying the Hilbert space of the problem.\n",
    "\n",
    "For our problem we focus on the gauge group SU(2), which will determine the total number of bosons to be $N^2-1 = 3$ for each matrix ($\\alpha, \\beta \\in \\{ 1, 2, 3\\}$). \n",
    "We will focus on 2 matrices $I, J \\in \\{ 1, 2 \\}$, for a total of 6 bosonic degrees of freedom $\\hat{X}_{I,\\alpha}$."
   ]
  },
  {
   "cell_type": "markdown",
   "metadata": {},
   "source": [
    "### 1.1 The Hilbert space\n",
    "\n",
    "For each bosonic degree of freedom we work in the basis of the Fock space, truncated up to a finite excitation level (cutoff) represented by $\\Lambda$."
   ]
  },
  {
   "cell_type": "code",
   "execution_count": 5,
   "metadata": {},
   "outputs": [],
   "source": [
    "Lambda = 4  # cutoff of each bosonic Fock space\n",
    "N = 6  # number of bosons \n",
    "\n",
    "hi = nk.hilbert.Fock(n_max=Lambda-1, N=N)  # n_max -> Maximum occupation for a site (inclusive)"
   ]
  },
  {
   "cell_type": "markdown",
   "metadata": {},
   "source": [
    "Test if the space is constructed as we expected.\n",
    "We want each of the $N$ bosons to have up to $\\Lambda$ excitations: the total Hilbert space is the tensor product of $N$ individual Fock spaces of dimension $\\Lambda$ for a total size of $\\Lambda^N = 4^6 = 4096$."
   ]
  },
  {
   "cell_type": "code",
   "execution_count": 6,
   "metadata": {},
   "outputs": [
    {
     "data": {
      "text/plain": [
       "(4, 4, 4, 4, 4, 4)"
      ]
     },
     "execution_count": 6,
     "metadata": {},
     "output_type": "execute_result"
    }
   ],
   "source": [
    "# The size of the hilbert space on every site (we have 4 levels on 6 sites).\n",
    "hi.shape"
   ]
  },
  {
   "cell_type": "code",
   "execution_count": 7,
   "metadata": {},
   "outputs": [
    {
     "data": {
      "text/plain": [
       "6"
      ]
     },
     "execution_count": 7,
     "metadata": {},
     "output_type": "execute_result"
    }
   ],
   "source": [
    "# The total number number of degrees of freedom (6 bosons).\n",
    "hi.size"
   ]
  },
  {
   "cell_type": "code",
   "execution_count": 8,
   "metadata": {},
   "outputs": [
    {
     "data": {
      "text/plain": [
       "4096"
      ]
     },
     "execution_count": 8,
     "metadata": {},
     "output_type": "execute_result"
    }
   ],
   "source": [
    "# The total dimension of the many-body Hilbert space (4^6 = 4096)\n",
    "hi.n_states"
   ]
  },
  {
   "cell_type": "code",
   "execution_count": 9,
   "metadata": {},
   "outputs": [],
   "source": [
    "assert Lambda**N == hi.n_states"
   ]
  },
  {
   "cell_type": "markdown",
   "metadata": {},
   "source": [
    "We have checked that all the dimensions correspond to our expectations. We can think of this as the Hilbert state of a many-body system with $N$ bosonic sites, each with excitations up to level $\\Lambda$ (inclusive, starting from 0 to $\\Lambda-1$).\n",
    "In other words, it is a collection of harmonic oscillators in the $\\mid n \\rangle$ basis."
   ]
  },
  {
   "cell_type": "markdown",
   "metadata": {},
   "source": [
    "### 1.2 The free Hamiltonian\n",
    "\n",
    "We now need to specify the Hamiltonian.\n",
    "We will use some predefined operators for bosons, such as the `create` and `destroy` operators for each boson in the Hilber state (see the API documentation [here](https://www.netket.org/docs/api.html#pre-defined-operators)).\n",
    "\n",
    "In this specifc case, $\\hat{a}^\\dagger_I$ for each boson $I$ (we can regard this index as a _site_ index in `netket`).\n",
    "\n"
   ]
  },
  {
   "cell_type": "code",
   "execution_count": 10,
   "metadata": {},
   "outputs": [],
   "source": [
    "from netket.operator.boson import create, destroy"
   ]
  },
  {
   "cell_type": "markdown",
   "metadata": {},
   "source": [
    "We now start by defining the free part of the Hamiltonian, which is just a collection of harmonic oscillators (for this part we could also use the `number` operator which is pre-defined in `netket`)\n"
   ]
  },
  {
   "cell_type": "code",
   "execution_count": 11,
   "metadata": {},
   "outputs": [],
   "source": [
    "# we loop over all \"sites\" -> loop over N bosons\n",
    "H_free = sum([0.5 + create(hi, i) * destroy(hi, i) for i in range(N)])\n"
   ]
  },
  {
   "cell_type": "markdown",
   "metadata": {},
   "source": [
    "`NetKet` automatically recognizes products of local operators as tensor products and the addition of scalars as if they were multiplied by the identity matrix in the tensor space. In this case, `H_free` acts on a 4096 dimensional space."
   ]
  },
  {
   "cell_type": "markdown",
   "metadata": {},
   "source": [
    "In general, when manipulating `NetKet` objects, you should always assume that you can safely operate on them like \n",
    "you would in mathematical equations, therefore you can sum and multiply them with ease."
   ]
  },
  {
   "cell_type": "markdown",
   "metadata": {},
   "source": [
    "### 1.3 Exact Diagonalization\n",
    "\n",
    "Let us check this free Hamiltonian, whose eigenvectors are analytically known: the ground state has vacuum energy for $N$ independent harmonic oscillators: $0.5N = 0.5 \\cdot 6 = 3$ "
   ]
  },
  {
   "cell_type": "markdown",
   "metadata": {},
   "source": [
    "In `netket` we can  convert our Hamiltonian operator into a sparse matrix of size $\\Lambda^N \\times \\Lambda^N $. "
   ]
  },
  {
   "cell_type": "markdown",
   "metadata": {},
   "source": [
    "Or we can use the fact that `netket` provides a wrapper for `eigsh` in the form of a Lanczos [exact solver](https://www.netket.org/docs/_generated/exact/netket.exact.lanczos_ed.html#netket.exact.lanczos_ed) which does not require to manipulate the Hamiltonian into a sparse matrix using `.to_sparse`."
   ]
  },
  {
   "cell_type": "code",
   "execution_count": 12,
   "metadata": {},
   "outputs": [
    {
     "name": "stdout",
     "output_type": "stream",
     "text": [
      "Eigenvalues with exact lanczos (sparse): [3. 4. 4. 4. 4. 4. 4. 5. 5. 5. 5. 5. 5.]\n"
     ]
    }
   ],
   "source": [
    "eig_vals = nk.exact.lanczos_ed(\n",
    "    H_free, k=13, compute_eigenvectors=False\n",
    ")  # args to scipy.sparse.linalg.eighs like can be passed with scipy_args={'tol':1e-8}\n",
    "print(f\"Eigenvalues with exact lanczos (sparse): {eig_vals}\")\n"
   ]
  },
  {
   "cell_type": "markdown",
   "metadata": {},
   "source": [
    "*Note*: a full (dense) exact diagonalization can also be done for small systems using [this exact solver](https://www.netket.org/docs/_generated/exact/netket.exact.full_ed.html#netket.exact.full_ed)"
   ]
  },
  {
   "cell_type": "code",
   "execution_count": 13,
   "metadata": {},
   "outputs": [
    {
     "name": "stdout",
     "output_type": "stream",
     "text": [
      "Eigenvalues with exact diag (dense): [ 3.  4.  4. ... 20. 20. 21.]\n",
      "Number of eigs: 4096\n"
     ]
    }
   ],
   "source": [
    "eig_vals = nk.exact.full_ed(H_free, compute_eigenvectors=False)\n",
    "print(f\"Eigenvalues with exact diag (dense): {eig_vals}\\nNumber of eigs: {eig_vals.shape[0]}\")"
   ]
  },
  {
   "cell_type": "markdown",
   "metadata": {},
   "source": [
    "Clearly this is the correct energy for the ground state and we can also see the correct degeneracy (6) of the excited states due to the symmetry of the system (all sites are interchangeable)"
   ]
  },
  {
   "cell_type": "markdown",
   "metadata": {},
   "source": [
    "### 1.4 The interaction Hamiltonian\n",
    "\n",
    "We can now continue building our full Hamiltonian by writing the interaction term.\n",
    "It is convenient to write the interaction using the `position` operators built from the creation and annihilation bosonic operators\n",
    "\n",
    "$$\\hat{x}_I = \\frac{1}{\\sqrt{2}} \\left( \\hat{a}^\\dagger_I + \\hat{a}_I \\right)$$\n"
   ]
  },
  {
   "cell_type": "code",
   "execution_count": 14,
   "metadata": {},
   "outputs": [],
   "source": [
    "x_list = [(1 / np.sqrt(2))*(create(hi,i)+destroy(hi,i)) for i in range(N)]"
   ]
  },
  {
   "cell_type": "markdown",
   "metadata": {},
   "source": [
    "The interactoin terms can be written using the Levi-Civita completely antisymmetric tensor with 3 indices or by writing out all the terms by hand:"
   ]
  },
  {
   "cell_type": "code",
   "execution_count": 15,
   "metadata": {},
   "outputs": [],
   "source": [
    "### Quartic Interaction for bosons\n",
    "V_b = (\n",
    "    x_list[2] * x_list[2] * x_list[3] * x_list[3]\n",
    "    + x_list[2] * x_list[2] * x_list[4] * x_list[4]\n",
    "    + x_list[1] * x_list[1] * x_list[3] * x_list[3]\n",
    "    + x_list[1] * x_list[1] * x_list[5] * x_list[5]\n",
    "    + x_list[0] * x_list[0] * x_list[4] * x_list[4]\n",
    "    + x_list[0] * x_list[0] * x_list[5] * x_list[5]\n",
    "    - 2 * x_list[0] * x_list[2] * x_list[3] * x_list[5]\n",
    "    - 2 * x_list[0] * x_list[1] * x_list[3] * x_list[4]\n",
    "    - 2 * x_list[1] * x_list[2] * x_list[4] * x_list[5]\n",
    ")"
   ]
  },
  {
   "cell_type": "markdown",
   "metadata": {},
   "source": [
    "And the full Hamiltonian with 't Hooft coupling $\\lambda = g^2 N_g$ (where $N_g$ is the gauge group number of color,  2 in this example) is"
   ]
  },
  {
   "cell_type": "code",
   "execution_count": 16,
   "metadata": {},
   "outputs": [],
   "source": [
    "g2N = 0.2  # 't Hooft coupling lambda\n",
    "H = H_free + (g2N / 2) * V_b"
   ]
  },
  {
   "cell_type": "markdown",
   "metadata": {},
   "source": [
    "## 2. Exact Diagonalization\n",
    "\n",
    "We can repeat for the full Hamiltonian at fixed gauge coupling $g^2N_g$ the exact diagonalization procedure we have used on the free Hamiltonian.\n",
    "\n",
    "When the gauge coupling constant is small, the difference of the energy of the ground state with the free case $g=0$ will be small."
   ]
  },
  {
   "cell_type": "code",
   "execution_count": 17,
   "metadata": {},
   "outputs": [
    {
     "name": "stdout",
     "output_type": "stream",
     "text": [
      "Eigenvalues with exact diag (dense): [ 3.13406307  4.21516634  4.21516634 ... 22.94954115 22.94954115\n",
      " 23.42952917]\n",
      "Number of eigs: 4096\n"
     ]
    }
   ],
   "source": [
    "w = nk.exact.full_ed(H, compute_eigenvectors=False)\n",
    "print(f\"Eigenvalues with exact diag (dense): {w}\\nNumber of eigs: {w.shape[0]}\")\n"
   ]
  },
  {
   "cell_type": "markdown",
   "metadata": {},
   "source": [
    "Or we can use the Lanczos solver and only approximately retrieve the lowest $k$ eigenvalues (this is much much quicker)"
   ]
  },
  {
   "cell_type": "code",
   "execution_count": 18,
   "metadata": {},
   "outputs": [
    {
     "name": "stdout",
     "output_type": "stream",
     "text": [
      "Eigenvalues with exact lanczos (sparse): [3.13406307 4.21516634 4.21516634 4.21516634]\n"
     ]
    }
   ],
   "source": [
    "eig_vals = nk.exact.lanczos_ed(\n",
    "    H, k=4, compute_eigenvectors=False, scipy_args={\"tol\": 1e-8}\n",
    ")\n",
    "print(f\"Eigenvalues with exact lanczos (sparse): {eig_vals}\")\n"
   ]
  },
  {
   "cell_type": "markdown",
   "metadata": {},
   "source": [
    "In [this PRX Quantum paper](https://journals.aps.org/prxquantum/abstract/10.1103/PRXQuantum.3.010324), the author have shown how the ground state energy changes when the truncation level $\\Lambda$ of the Fock space is taken to infinity. The convergence to the infinite cutoff limit is exponentially fast and we can work with a small cutoff $\\Lambda=4$ in this example, to keep the computational requirements to a minimum."
   ]
  },
  {
   "cell_type": "markdown",
   "metadata": {},
   "source": [
    "## 3. Mean-Field Ansatz\n",
    "\n",
    "We now would like to find a variational approximation of the ground state of this Hamiltonian. As a first step, we can try to use a very simple mean field ansatz: \n",
    "\n",
    "$$ \\langle X_1,\\dots X_N| \\Psi_{\\mathrm{mf}} \\rangle = \\Pi_{i=1}^{N} \\Phi(X_i), $$\n",
    "\n",
    "where the variational parameters are individual boson's wave functions $\\Phi(X_i)$. This is probably a bad ansatz, but it will show how the variational Monte Carlo procedure works in `netket`\n",
    "\n",
    "We can further write $ \\Phi(X) = \\sqrt{P(X)}e^{i \\phi(X)}$. This is the same form used in the Deep Learning section of [the same preprint cited above](https://arxiv.org/abs/2108.02942), where, instead of the Fock basis for the states, a coordinate basis was used.\n",
    "\n",
    "In order to simplify the explanation of the Variational Monte Carlo method, we take the phase $\\phi=0$, and consider only the modulus of the wave function (the phase will be irrelevant for the ground state of this model)."
   ]
  },
  {
   "cell_type": "markdown",
   "metadata": {},
   "source": [
    "For the normalized single-boson probability we will take a sigmoid form: \n",
    "\n",
    "$$P(X; \\gamma) = 1/(1 + e^{-\\gamma X})$$\n",
    "thus depending on the single, real-valued variational parameter $\\gamma$. \n",
    "\n",
    "In `NetKet` one has to define a variational function approximating the **logarithm** of the wave-function amplitudes (or density-matrix values).\n",
    "\n",
    "$$ \\langle X_1,\\dots X_N| \\Psi_{\\mathrm{mf}} \\rangle = \\exp{(\\textrm{Model}(X; \\theta))} $$\n",
    "\n",
    "where $\\theta$ is a set of parameters.\n",
    "\n",
    "In this case, the parameter of the model will be just one: $\\gamma$.\n",
    "\n",
    "The Model can be defined using one of the several functional jax frameworks such as Jax/Stax, Flax or Haiku. \n",
    "`NetKet` includes several pre-built models and layers built with Flax, so we will be using it for the rest of the notebook."
   ]
  },
  {
   "cell_type": "code",
   "execution_count": 19,
   "metadata": {},
   "outputs": [],
   "source": [
    "# always use jax.numpy for automatic differentiation of operations\n",
    "import jax.numpy as jnp\n",
    "\n",
    "# Flax is a framework to define models using jax\n",
    "import flax.linen as nn\n",
    "\n",
    "# A Flax model must be a class subclassing `nn.Module` (or later of nk.nn.Module)\n",
    "class MF(nn.Module):\n",
    "\n",
    "    # The most compact way to define the model is this.\n",
    "    # The __call__(self, x) function should take as\n",
    "    # input a batch of states x.shape = (n_samples, L)\n",
    "    # and should return a vector of n_samples log-amplitudes\n",
    "    @nn.compact\n",
    "    def __call__(self, x):\n",
    "\n",
    "        # A tensor of variational parameters is defined by calling\n",
    "        # the method `self.param` where the arguments will be:\n",
    "        # - arbitrary name used to refer to this set of parameters\n",
    "        # - an initializer used to provide the initial values.\n",
    "        # - The shape of the tensor\n",
    "        # - The dtype of the tensor.\n",
    "        gam = self.param(\"gamma\", nn.initializers.normal(), (1,), float)\n",
    "\n",
    "        # compute the probabilities\n",
    "        p = nn.log_sigmoid(gam * x)\n",
    "\n",
    "        # sum the output to return a single number (on a batch of input configurations)\n",
    "        return 0.5 * jnp.sum(p, axis=-1)\n"
   ]
  },
  {
   "cell_type": "markdown",
   "metadata": {},
   "source": [
    "### 3.1 Variational State\n",
    "\n",
    "The model itself is only a set of instructions on how to initialise the parameters and how to compute the result. \n",
    "\n",
    "To actually create a **variational state** with its parameters, the easiest way is to construct a Monte-Carlo-sampled Variational State. \n",
    "\n",
    "To do this, we first need to define a sampler.\n",
    "\n",
    "In [`netket.sampler`](https://www.netket.org/docs/api.html#list-of-samplers) several samplers are defined, each with its own peculiarities.\n",
    "\n",
    "In the following example, we will be using a simple sampler that chooses the occupation number of each boson at random (uniform between 0 and $\\Lambda-1$) one by one.\n",
    "\n",
    "You can read more about how the sampler works by checking the documentation with `?nk.sampler.MetropolisLocal`"
   ]
  },
  {
   "cell_type": "code",
   "execution_count": 20,
   "metadata": {},
   "outputs": [
    {
     "name": "stderr",
     "output_type": "stream",
     "text": [
      "WARNING:absl:No GPU/TPU found, falling back to CPU. (Set TF_CPP_MIN_LOG_LEVEL=0 and rerun for more info.)\n"
     ]
    }
   ],
   "source": [
    "# Create an instance of the model.\n",
    "# Notice that this does not create the parameters.\n",
    "mf_model = MF()\n",
    "\n",
    "# Create the local sampler on the hilbert space\n",
    "sampler = nk.sampler.MetropolisLocal(hi, n_chains=4)\n",
    "\n",
    "# Construct the variational state using the model and the sampler above.\n",
    "# n_samples specifies how many samples should be used to compute expectation\n",
    "# values.\n",
    "vstate = nk.vqs.MCState(sampler, mf_model, n_samples=2**9)\n"
   ]
  },
  {
   "cell_type": "markdown",
   "metadata": {},
   "source": [
    "You can play around with the variational state: for example, you can compute expectation values yourself or inspect it's parameters"
   ]
  },
  {
   "cell_type": "code",
   "execution_count": 21,
   "metadata": {},
   "outputs": [
    {
     "data": {
      "text/plain": [
       "FrozenDict({\n",
       "    gamma: DeviceArray([-0.00952927], dtype=float64),\n",
       "})"
      ]
     },
     "execution_count": 21,
     "metadata": {},
     "output_type": "execute_result"
    }
   ],
   "source": [
    "# you can inspect the parameters which contain the single\n",
    "# variational parameter `gamma`\n",
    "vstate.parameters"
   ]
  },
  {
   "cell_type": "code",
   "execution_count": 22,
   "metadata": {},
   "outputs": [
    {
     "data": {
      "text/plain": [
       "12.60 ± 0.15 [σ²=9.11, R̂=0.9968]"
      ]
     },
     "execution_count": 22,
     "metadata": {},
     "output_type": "execute_result"
    }
   ],
   "source": [
    "# Expectation value: notice that it also provides an error estimate. and the monte carlo chain properties, such as the Gelman-Rubin statistics across chains\n",
    "vstate.expect(H)"
   ]
  },
  {
   "cell_type": "markdown",
   "metadata": {},
   "source": [
    "The last cell was run with a randomly initialized parameter $\\gamma$ and for 512 samples (notice the metrics for the convergence of the Monte Carlo algorithm in square brackets)."
   ]
  },
  {
   "cell_type": "markdown",
   "metadata": {},
   "source": [
    "## 4. Variational Monte Carlo"
   ]
  },
  {
   "cell_type": "markdown",
   "metadata": {},
   "source": [
    "We will now try to optimise $\\gamma$ in order to best approximate the ground state of the hamiltonian.\n",
    "\n",
    "To do so, first I need to pick an iterative optimiser. The following is a choice that can be further optimized later on, depending on the learning curve for the specific ansatz and system.\n",
    "\n",
    "We choose stochastic gradient descent with a learning rate of $\\eta = 0.05$.\n",
    "\n",
    "Then, we must provide all the elements to the variational monte carlo driver, which takes case of setting up and running the whole optimisation.\n",
    "\n",
    "For example, the driver can be run for a specific number of iterations. Each iteration will have to run the Monte Carlo sampling defined by the variational state `nk.vqs.MCState`."
   ]
  },
  {
   "cell_type": "code",
   "execution_count": 23,
   "metadata": {},
   "outputs": [
    {
     "name": "stderr",
     "output_type": "stream",
     "text": [
      "100%|██████████| 300/300 [00:04<00:00, 65.20it/s, Energy=3.261 ± 0.024 [σ²=0.113, R̂=1.0183]] \n"
     ]
    },
    {
     "name": "stdout",
     "output_type": "stream",
     "text": [
      "Optimized energy 3.287 ± 0.027 [σ²=0.142, R̂=1.0034] \n",
      " and relative error: 4.879%\n"
     ]
    }
   ],
   "source": [
    "optimizer = nk.optimizer.Sgd(learning_rate=0.05)\n",
    "\n",
    "# build the optimisation driver\n",
    "gs = nk.driver.VMC(H, optimizer, variational_state=vstate)\n",
    "\n",
    "# Loggers that work together with optimisation drivers are defined in nk.logging.\n",
    "# RuntimeLog keeps the metrics in memory, JsonLog stores them to a json file which can be read\n",
    "# as a dict, TensorBoardLog can be used to log to TensorBoard.\n",
    "log=nk.logging.RuntimeLog()\n",
    "\n",
    "# One or more logger objects must be passed to the keyword argument `out`.\n",
    "gs.run(n_iter=300, out=log)\n",
    "\n",
    "# expectation value of the energy\n",
    "mf_energy = vstate.expect(H)\n",
    "# compare with the Lanczos exact diagonalization energy eigenvalue\n",
    "error = abs((mf_energy.mean - eig_vals[0]) / eig_vals[0])\n",
    "print(f\"Optimized energy {mf_energy} \\n and relative error: {error*100:.3f}%\")\n"
   ]
  },
  {
   "cell_type": "code",
   "execution_count": 24,
   "metadata": {},
   "outputs": [
    {
     "name": "stdout",
     "output_type": "stream",
     "text": [
      "Final optimized parameter:  [-4.64184644]\n"
     ]
    }
   ],
   "source": [
    "# we can also inspect the parameter:\n",
    "print(\"Final optimized parameter: \",vstate.parameters[\"gamma\"])\n"
   ]
  },
  {
   "cell_type": "code",
   "execution_count": 25,
   "metadata": {},
   "outputs": [
    {
     "name": "stdout",
     "output_type": "stream",
     "text": [
      "Final optimized energy relative error (with mean-field ansatz): 4.88%\n"
     ]
    }
   ],
   "source": [
    "print(\n",
    "    f\"Final optimized energy relative error (with mean-field ansatz): {error*100:.2f}%\"\n",
    ")\n"
   ]
  },
  {
   "cell_type": "markdown",
   "metadata": {},
   "source": [
    "Even a very rudimentary ansatz without interactions between the degrees of freedom is sufficient to reach a <10% error on the ground state energy with a single parameter to optimize.\n",
    "\n",
    "We will see more complicated ansatzë below."
   ]
  },
  {
   "cell_type": "markdown",
   "metadata": {},
   "source": [
    "## 5. Jastrow Ansatz\n",
    "\n",
    "We have seen that the mean field ansatz yields about sub-10% error on the ground-state energy. Let's now try to do better, using a more correlated ansatz. \n",
    "\n",
    "We will now take a short-range Jastrow ansatz which is already inlcuded in `netket` as [`nk.models.Jastrow`](https://www.netket.org/docs/_generated/models/netket.models.Jastrow.html#netket.models.Jastrow):\n",
    "\n",
    "$$\\log{\\Psi(X)} = \\sum_{ij} X_i W_{ij} X_j$$\n",
    "\n",
    "where $W_{ij}$ is a symmetric matrix of learnable complex parameters (the _kernel_ of the quadratic form)."
   ]
  },
  {
   "cell_type": "code",
   "execution_count": 26,
   "metadata": {},
   "outputs": [],
   "source": [
    "# change the model: initialize weights with normal distributions\n",
    "model = nk.models.Jastrow(kernel_init=nn.initializers.normal())\n",
    "\n",
    "# we use the same MetropolicLocal sapmler as before. Now we sample for longer to get a more accurate result\n",
    "vstate = nk.vqs.MCState(sampler, model, n_samples=2**10)\n"
   ]
  },
  {
   "cell_type": "code",
   "execution_count": 27,
   "metadata": {},
   "outputs": [
    {
     "name": "stdout",
     "output_type": "stream",
     "text": [
      "FrozenDict({\n",
      "    kernel: DeviceArray([[ 0.00025942+1.13059983e-02j, -0.01756836+2.53269864e-03j,\n",
      "                   0.00629614+2.72221198e-03j, -0.00113599-7.53048571e-04j,\n",
      "                   0.01036034+1.08731978e-02j,  0.00044071+2.75846735e-03j],\n",
      "                 [ 0.00550742+5.40926439e-04j, -0.00411998+4.49320782e-03j,\n",
      "                  -0.01129992-2.09017255e-03j,  0.00369755+6.68482033e-03j,\n",
      "                   0.00268105-1.19166789e-02j,  0.0067475 +1.12469242e-02j],\n",
      "                 [ 0.01676068-5.53684459e-03j, -0.00503701+1.27135294e-03j,\n",
      "                   0.00098107-4.73282147e-03j, -0.02334702+6.99714372e-03j,\n",
      "                   0.00186461-6.09250617e-03j,  0.01497723-4.53988049e-04j],\n",
      "                 [-0.00688745+7.11516333e-03j,  0.00744094-1.68495489e-02j,\n",
      "                   0.00316463-3.98687876e-03j,  0.002277  +3.29754515e-03j,\n",
      "                  -0.00715636-6.42694274e-05j, -0.00478319+1.52114464e-02j],\n",
      "                 [-0.00053276+1.21661315e-02j,  0.00699827+1.64429219e-03j,\n",
      "                   0.01303741+4.21373688e-03j, -0.00459425-2.71203270e-03j,\n",
      "                   0.00772943-7.03243035e-03j, -0.0014112 -1.53566676e-03j],\n",
      "                 [ 0.00222791-2.83361414e-03j, -0.00328878-6.17781581e-03j,\n",
      "                   0.00180363-5.32717992e-03j,  0.00429414+5.18126459e-03j,\n",
      "                  -0.01634661+8.28374970e-04j, -0.00798156+2.30652396e-03j]],            dtype=complex128),\n",
      "})\n"
     ]
    }
   ],
   "source": [
    "# look at the parameters\n",
    "print(vstate.parameters)"
   ]
  },
  {
   "cell_type": "markdown",
   "metadata": {},
   "source": [
    "We then optimize it, however this time we also introduce a stochastic reconfiguration (natural gradient) preconditioner:"
   ]
  },
  {
   "cell_type": "code",
   "execution_count": 28,
   "metadata": {},
   "outputs": [],
   "source": [
    "optimizer = nk.optimizer.Sgd(learning_rate=0.05)\n",
    "\n",
    "preconditioner = nk.optimizer.SR(diag_shift=0.1)\n",
    "\n",
    "# driver for running the simulation\n",
    "gs = nk.driver.VMC(\n",
    "    H, optimizer, variational_state=vstate, preconditioner=preconditioner\n",
    ")\n"
   ]
  },
  {
   "cell_type": "markdown",
   "metadata": {},
   "source": [
    "We now log the intermediate results of the optimization, so that we can visualize them at a later stage. We also add a callback to the VMC driver in order to save the acceptance rate of the sampling algorithm at each step of the optimization"
   ]
  },
  {
   "cell_type": "code",
   "execution_count": 29,
   "id": "e7bd2edd",
   "metadata": {},
   "outputs": [],
   "source": [
    "# define acceptance logger callback\n",
    "def cb_acc(step, logged_data, driver):\n",
    "        logged_data[\"acceptance\"] = float(driver.state.sampler_state.acceptance)\n",
    "        return True"
   ]
  },
  {
   "cell_type": "code",
   "execution_count": 30,
   "metadata": {},
   "outputs": [
    {
     "name": "stderr",
     "output_type": "stream",
     "text": [
      "100%|██████████| 300/300 [00:06<00:00, 44.79it/s, Energy=3.1704+0.0000j ± 0.0089 [σ²=0.0220, R̂=1.0031]]            \n"
     ]
    },
    {
     "data": {
      "text/plain": [
       "(<netket.logging.runtime_log.RuntimeLog at 0x7f425ea04c40>,)"
      ]
     },
     "execution_count": 30,
     "metadata": {},
     "output_type": "execute_result"
    }
   ],
   "source": [
    "# Loggers that work together with optimisation drivers are defined in nk.logging.\n",
    "# RuntimeLog keeps the metrics in memory, JsonLog stores them to a json file which can be read\n",
    "# as a dict, TensorBoardLog can be used to log to TensorBoard.\n",
    "log = nk.logging.RuntimeLog()\n",
    "\n",
    "# One or more logger objects must be passed to the keyword argument `out`.\n",
    "gs.run(n_iter=300, out=log, callback=cb_acc)\n"
   ]
  },
  {
   "cell_type": "code",
   "execution_count": 31,
   "metadata": {},
   "outputs": [
    {
     "name": "stdout",
     "output_type": "stream",
     "text": [
      "Final optimized kernel parameters: [[-1.65300185e+00+0.02730818j -8.79459009e-02-0.00351345j\n",
      "  -4.23348255e-02-0.00051619j -2.84897520e-02-0.01645336j\n",
      "  -1.11279897e-01+0.01632825j -8.34391839e-02+0.00150191j]\n",
      " [-6.48701255e-02-0.00550522j -1.67660228e+00+0.00693809j\n",
      "  -7.94198432e-02+0.00162617j -9.69600981e-02+0.00923542j\n",
      "  -2.02767891e-02-0.01200598j -1.01030969e-01+0.01160706j]\n",
      " [-3.18702776e-02-0.00877525j -7.31569320e-02+0.0049877j\n",
      "  -1.69429759e+00-0.00766948j -1.13109471e-01+0.00860883j\n",
      "  -1.14329451e-01-0.0069827j   9.98180831e-04-0.00093564j]\n",
      " [-3.42412173e-02-0.00858515j -9.32167101e-02-0.01429895j\n",
      "  -8.65978240e-02-0.00237519j -1.65895181e+00+0.01431299j\n",
      "  -8.05919710e-02-0.00063646j -7.35206832e-02+0.01134584j]\n",
      " [-1.22172998e-01+0.01762118j -1.59595627e-02+0.001555j\n",
      "  -1.03156645e-01+0.00332354j -7.80298567e-02-0.00328423j\n",
      "  -1.65428085e+00-0.00727701j -6.25787492e-02-0.00268257j]\n",
      " [-8.16519834e-02-0.00409018j -1.11067246e-01-0.00581768j\n",
      "  -1.21754149e-02-0.00580883j -6.44433504e-02+0.00131566j\n",
      "  -7.75141569e-02-0.00031853j -1.67683358e+00+0.00611623j]]\n",
      "\n",
      "Optimized energy : 3.1521+0.0000j ± 0.0021 [σ²=0.0024, R̂=1.0010]\n",
      "relative error   : 0.58%\n"
     ]
    }
   ],
   "source": [
    "print(f\"Final optimized kernel parameters: {vstate.parameters['kernel']}\\n\")\n",
    "jas_energy = vstate.expect(H)\n",
    "error = abs((jas_energy.mean - eig_vals[0]) / eig_vals[0])\n",
    "print(f\"Optimized energy : {jas_energy}\")\n",
    "print(f\"relative error   : {error*100:.2f}%\")\n"
   ]
  },
  {
   "cell_type": "markdown",
   "metadata": {},
   "source": [
    "You can now see that this ansatz is almost one order of magnitude more accurate than the mean field! \n",
    "\n",
    "In order to visualize what happened during the optimization, we can use the data that has been stored by the logger. There are several available loggers in NetKet, here we have just used a simple one that stores the intermediate results as values in a dictionary. "
   ]
  },
  {
   "cell_type": "code",
   "execution_count": 32,
   "metadata": {},
   "outputs": [
    {
     "name": "stdout",
     "output_type": "stream",
     "text": [
      "{'Energy': History(\n",
      "   keys  = ['Mean', 'Variance', 'Sigma', 'R_hat', 'TauCorr'], \n",
      "   iters = [0, 1, ... 298, 299] (300 steps),\n",
      "), 'acceptance': History(\n",
      "   keys  = ['value'], \n",
      "   iters = [0, 1, ... 298, 299] (300 steps),\n",
      ")}\n"
     ]
    }
   ],
   "source": [
    "data_jastrow = log.data\n",
    "print(data_jastrow)"
   ]
  },
  {
   "cell_type": "code",
   "execution_count": 33,
   "metadata": {},
   "outputs": [],
   "source": [
    "energy_history = data_jastrow[\"Energy\"].Mean.real\n",
    "energy_error_history = data_jastrow[\"Energy\"].Sigma.real"
   ]
  },
  {
   "cell_type": "markdown",
   "metadata": {},
   "source": [
    "These report several intermediate quantities, that can be easily plotted. For example we can plot the value of the energy (with its error bar) at each optimization step.  "
   ]
  },
  {
   "cell_type": "code",
   "execution_count": 34,
   "metadata": {
    "scrolled": true
   },
   "outputs": [
    {
     "data": {
      "text/plain": [
       "Text(0, 0.5, 'Energy (Re)')"
      ]
     },
     "execution_count": 34,
     "metadata": {},
     "output_type": "execute_result"
    },
    {
     "data": {
      "image/png": "[encoded data removed]",
      "text/plain": [
       "<Figure size 720x360 with 1 Axes>"
      ]
     },
     "metadata": {
      "needs_background": "light"
     },
     "output_type": "display_data"
    }
   ],
   "source": [
    "fig, ax = plt.subplots(figsize=(10, 5))\n",
    "ax.errorbar(data_jastrow[\"Energy\"].iters, energy_history, yerr=energy_error_history)\n",
    "ax.axhline(y=eig_vals[0], xmin=0, xmax=data_jastrow[\"Energy\"].iters[-1], linewidth=2, color=\"k\", label=\"Exact\")\n",
    "ax.legend()\n",
    "ax.set_xlabel(\"Iterations\")\n",
    "ax.set_ylabel(\"Energy (Re)\")\n"
   ]
  },
  {
   "cell_type": "markdown",
   "metadata": {},
   "source": [
    "You can also look at the MCMC chain properties, like the Gelman-Rubin statistic (it should be very close to 1.00 for all chains to be equilibrated)"
   ]
  },
  {
   "cell_type": "code",
   "execution_count": 35,
   "metadata": {},
   "outputs": [
    {
     "data": {
      "text/plain": [
       "Text(0.5, 0, 'Iterations')"
      ]
     },
     "execution_count": 35,
     "metadata": {},
     "output_type": "execute_result"
    },
    {
     "data": {
      "image/png": "[encoded data removed]",
      "text/plain": [
       "<Figure size 432x288 with 1 Axes>"
      ]
     },
     "metadata": {
      "needs_background": "light"
     },
     "output_type": "display_data"
    }
   ],
   "source": [
    "plt.plot(data_jastrow[\"Energy\"].R_hat)\n",
    "plt.ylabel(\"R_hat\")\n",
    "plt.xlabel(\"Iterations\")"
   ]
  },
  {
   "cell_type": "markdown",
   "metadata": {},
   "source": [
    "Some chains have `R_hat` larger than ones, which means they might not have converged within the 1024 samples that we had specified..."
   ]
  },
  {
   "cell_type": "markdown",
   "id": "8e2a49a7",
   "metadata": {},
   "source": [
    "Moreover, we can look at the acceptance rate. In this figure below it is clear that the sampler is failing to explore the entirety of the Hilbert space and after 50 iterations the sampling starts failing."
   ]
  },
  {
   "cell_type": "code",
   "execution_count": 36,
   "id": "6479b3d3",
   "metadata": {},
   "outputs": [
    {
     "data": {
      "text/plain": [
       "Text(0, 0.5, 'Acc. Rate')"
      ]
     },
     "execution_count": 36,
     "metadata": {},
     "output_type": "execute_result"
    },
    {
     "data": {
      "image/png": "[encoded data removed]",
      "text/plain": [
       "<Figure size 720x360 with 1 Axes>"
      ]
     },
     "metadata": {
      "needs_background": "light"
     },
     "output_type": "display_data"
    }
   ],
   "source": [
    "fig, ax = plt.subplots(figsize=(10,5))\n",
    "ax.errorbar(data_jastrow[\"Energy\"].iters, data_jastrow[\"acceptance\"][\"value\"], label=\"Jastrow\")\n",
    "ax.axhline(0,c='k')\n",
    "ax.legend()\n",
    "\n",
    "ax.set_xlabel('Iterations')\n",
    "ax.set_ylabel('Acc. Rate')"
   ]
  },
  {
   "cell_type": "markdown",
   "id": "278881e1",
   "metadata": {},
   "source": [
    "### 5.1 Exact Sampling"
   ]
  },
  {
   "cell_type": "markdown",
   "id": "a8cc490f",
   "metadata": {},
   "source": [
    "We can change the sampler to an exact sampler which does not suffer from autocorrelation effects and can sample from the exact Born distribution $|\\psi(x)|^2$ which is pre-computed on the entire Hilbert space. This is feasible only on small Hilbert spaces, like the one we are using here"
   ]
  },
  {
   "cell_type": "code",
   "execution_count": 37,
   "id": "11b3b897",
   "metadata": {},
   "outputs": [],
   "source": [
    "# change the model: initialize weights with normal distributions\n",
    "model = nk.models.Jastrow(kernel_init=nn.initializers.normal())\n",
    "\n",
    "# Create the an exact sampler over the Hilber space , if it is not too large\n",
    "sampler = nk.sampler.ExactSampler(hi)\n",
    "\n",
    "# Construct the variational state using the model and the sampler above.\n",
    "# n_samples specifies how many samples should be used to compute expectation\n",
    "# values.\n",
    "vstate = nk.vqs.MCState(sampler, model, n_samples=2**10)"
   ]
  },
  {
   "cell_type": "markdown",
   "id": "d80ba338",
   "metadata": {},
   "source": [
    "The VMC driver and the optimization algorithms can stay the same. Only the sampling has changed"
   ]
  },
  {
   "cell_type": "code",
   "execution_count": 38,
   "id": "7e5dadc0",
   "metadata": {},
   "outputs": [],
   "source": [
    "optimizer = nk.optimizer.Sgd(learning_rate=0.05)\n",
    "\n",
    "preconditioner = nk.optimizer.SR(diag_shift=0.1)\n",
    "\n",
    "# driver for running the simulation\n",
    "gs = nk.driver.VMC(\n",
    "    H, optimizer, variational_state=vstate, preconditioner=preconditioner\n",
    ")"
   ]
  },
  {
   "cell_type": "markdown",
   "id": "5c3e1517",
   "metadata": {},
   "source": [
    "We do not call the `cb_acc` callback here because this exact sampler has no acceptance rate (it is always 1!!)"
   ]
  },
  {
   "cell_type": "code",
   "execution_count": 39,
   "id": "57a67510",
   "metadata": {},
   "outputs": [
    {
     "name": "stderr",
     "output_type": "stream",
     "text": [
      "100%|██████████| 300/300 [00:05<00:00, 58.83it/s, Energy=3.1543+0.0000j ± 0.0020 [σ²=0.0047]] \n"
     ]
    },
    {
     "data": {
      "text/plain": [
       "(<netket.logging.runtime_log.RuntimeLog at 0x7f4290e82400>,)"
      ]
     },
     "execution_count": 39,
     "metadata": {},
     "output_type": "execute_result"
    }
   ],
   "source": [
    "# Loggers that work together with optimisation drivers are defined in nk.logging.\n",
    "# RuntimeLog keeps the metrics in memory, JsonLog stores them to a json file which can be read\n",
    "# as a dict, TensorBoardLog can be used to log to TensorBoard.\n",
    "log = nk.logging.RuntimeLog()\n",
    "\n",
    "# One or more logger objects must be passed to the keyword argument `out`.\n",
    "gs.run(n_iter=300, out=log)"
   ]
  },
  {
   "cell_type": "code",
   "execution_count": 40,
   "id": "94e7c583",
   "metadata": {},
   "outputs": [
    {
     "name": "stdout",
     "output_type": "stream",
     "text": [
      "Final optimized kernel parameters: [[-1.71014275+0.00479414j -0.07262377-0.0040495j  -0.07951846-0.00713205j\n",
      "  -0.03856982-0.00922297j -0.11737722+0.01198919j -0.12462781-0.00904981j]\n",
      " [-0.07139467+0.00453834j -1.71135562+0.01178451j -0.06025392-0.00088803j\n",
      "  -0.10349591+0.00053235j -0.02931091-0.01574736j -0.10633968+0.00144771j]\n",
      " [-0.0648645 -0.00218574j -0.06108004+0.00594759j -1.69957561+0.00892374j\n",
      "  -0.13842399-0.00136197j -0.18510995+0.00996997j -0.02326863+0.00146521j]\n",
      " [-0.04262834+0.01009988j -0.10359216+0.00268981j -0.13972342-0.00772473j\n",
      "  -1.68681995+0.0008022j  -0.06049195-0.01823158j -0.07914184+0.00071334j]\n",
      " [-0.11546151+0.00868889j -0.02732955-0.00618864j -0.19898328+0.01264856j\n",
      "  -0.07047197+0.00265749j -1.69623886+0.03136092j -0.06690689-0.006079j  ]\n",
      " [-0.12576189-0.00538153j -0.10820723-0.00081219j -0.01467856+0.00975233j\n",
      "  -0.07698526+0.01607908j -0.06421261-0.00835429j -1.70173048-0.01632262j]]\n",
      "\n",
      "Optimized energy : 3.1554+0.0000j ± 0.0027 [σ²=0.0059]\n",
      "relative error   : 0.68%\n"
     ]
    }
   ],
   "source": [
    "print(f\"Final optimized kernel parameters: {vstate.parameters['kernel']}\\n\")\n",
    "jas_energy=vstate.expect(H)\n",
    "error=abs((jas_energy.mean-eig_vals[0])/eig_vals[0])\n",
    "print(f\"Optimized energy : {jas_energy}\")\n",
    "print(f\"relative error   : {error*100:.2f}%\")"
   ]
  },
  {
   "cell_type": "code",
   "execution_count": 41,
   "id": "728c6d21",
   "metadata": {},
   "outputs": [
    {
     "data": {
      "image/png": "[encoded data removed]",
      "text/plain": [
       "<Figure size 720x360 with 1 Axes>"
      ]
     },
     "metadata": {
      "needs_background": "light"
     },
     "output_type": "display_data"
    }
   ],
   "source": [
    "data_jastrow = log.data\n",
    "energy_history = data_jastrow[\"Energy\"][\"Mean\"].real\n",
    "energy_error_history = data_jastrow[\"Energy\"][\"Sigma\"]\n",
    "\n",
    "fig, ax = plt.subplots(figsize=(10,5))\n",
    "ax.errorbar(data_jastrow[\"Energy\"].iters, energy_history, yerr=energy_error_history,label=\"Jastrow\")\n",
    "ax.axhline(y=eig_vals[0], xmin=0, xmax=data_jastrow[\"Energy\"].iters[-1], linewidth=2, color=\"k\", label=\"Exact\")\n",
    "ax.legend()\n",
    "ax.set_xlabel('Iterations')\n",
    "ax.set_ylabel('Energy (Re)');"
   ]
  },
  {
   "cell_type": "markdown",
   "id": "1ec51caf",
   "metadata": {},
   "source": [
    "The result obtained with the exact sampler is encouraging because we can see that we have achieved the same accuracy on the ground state energy as before. Even if the Metropolis local sampler does not work well for this ground state, the resulting ground state is still the correct one.\n",
    "The failure in sampling from the computational basis states is due to the fact that, for this system, the ground state is a quantum state that has overlap only on one basis $|s\\rangle$. This happens at very small couplings: remember that the zero-coupling limit is just un-coupled harmonic oscillators."
   ]
  },
  {
   "cell_type": "markdown",
   "metadata": {},
   "source": [
    "## 6. Neural-Network Quantum State \n",
    "\n",
    "We now want to use a more sofisticated ansatz, based on a neural network representation of the wave function. At this point, this is quite straightforward, since we can again take advantage of automatic differentiation. \n",
    "\n",
    "Let us define a simple fully-connected feed-forward network with a ReLu activation function and a sum layer. "
   ]
  },
  {
   "cell_type": "code",
   "execution_count": 42,
   "metadata": {},
   "outputs": [],
   "source": [
    "class FFN(nn.Module):\n",
    "\n",
    "    # You can define attributes at the module-level\n",
    "    # with a default. This allows you to easily change\n",
    "    # some hyper-parameter without redefining the whole\n",
    "    # flax module. This is the ratio of neurons to input dofs\n",
    "    alpha: int = 1\n",
    "\n",
    "    @nn.compact\n",
    "    def __call__(self, x):\n",
    "\n",
    "        # here we construct the first dense layer using a\n",
    "        # pre-built implementation in flax.\n",
    "        # features is the number of output nodes\n",
    "        # WARNING: Won't work with complex hamiltonians because\n",
    "        # of a bug in flax. Use nk.nn.Dense otherwise.\n",
    "        dense = nk.nn.Dense(features=self.alpha * x.shape[-1])\n",
    "\n",
    "        # we apply the dense layer to the input\n",
    "        y = dense(x)\n",
    "\n",
    "        # the non-linearity is a simple ReLu\n",
    "        y = nn.relu(y)\n",
    "\n",
    "        # sum the output\n",
    "        return jnp.sum(y, axis=-1)\n"
   ]
  },
  {
   "cell_type": "markdown",
   "id": "61311c11",
   "metadata": {},
   "source": [
    "We will keep using the exact sampler to avoid ergodicity issues"
   ]
  },
  {
   "cell_type": "code",
   "execution_count": 43,
   "metadata": {},
   "outputs": [],
   "source": [
    "# it is easy here to pass the hyper-parameter value\n",
    "model = FFN(alpha=1)\n",
    "\n",
    "# Create the an exact sampler over the Hilber space , if it is not too large\n",
    "sampler = nk.sampler.ExactSampler(hi)\n",
    "\n",
    "# create the VMC state\n",
    "vstate = nk.vqs.MCState(sampler, model, n_samples=2**10)"
   ]
  },
  {
   "cell_type": "markdown",
   "metadata": {},
   "source": [
    "We then proceed to the optimization as before. "
   ]
  },
  {
   "cell_type": "code",
   "execution_count": 44,
   "metadata": {},
   "outputs": [
    {
     "name": "stderr",
     "output_type": "stream",
     "text": [
      "100%|██████████| 300/300 [00:03<00:00, 79.09it/s, Energy=3.1549 ± 0.0020 [σ²=0.0048]]    \n"
     ]
    },
    {
     "name": "stdout",
     "output_type": "stream",
     "text": [
      "Optimized energy: 3.1659 ± 0.0088 [σ²=0.0860] \n",
      "Relative error: 1.02%\n"
     ]
    }
   ],
   "source": [
    "optimizer = nk.optimizer.Sgd(learning_rate=0.05)\n",
    "preconditioner = nk.optimizer.SR(diag_shift=0.1)\n",
    "\n",
    "# Notice the use, again of Stochastic Reconfiguration, which considerably improves the optimisation\n",
    "gs = nk.driver.VMC(\n",
    "    H, optimizer, variational_state=vstate, preconditioner=preconditioner\n",
    ")\n",
    "\n",
    "# logging and running : sometimes need to rung longer than 300 to exit a plateaux\n",
    "log = nk.logging.RuntimeLog()\n",
    "gs.run(n_iter=300, out=log)\n",
    "\n",
    "ffn_energy = vstate.expect(H)\n",
    "error = abs((ffn_energy.mean - eig_vals[0]) / eig_vals[0])\n",
    "print(f\"Optimized energy: {ffn_energy} \\nRelative error: {error*100:.2f}%\")\n"
   ]
  },
  {
   "cell_type": "markdown",
   "metadata": {},
   "source": [
    "And we can compare the results between the two different ansatze. The fully-connected ansatz needs more iterations to converge:"
   ]
  },
  {
   "cell_type": "code",
   "execution_count": 45,
   "metadata": {},
   "outputs": [
    {
     "data": {
      "text/plain": [
       "Text(0, 0.5, 'Energy (Re)')"
      ]
     },
     "execution_count": 45,
     "metadata": {},
     "output_type": "execute_result"
    },
    {
     "data": {
      "image/png": "[encoded data removed]",
      "text/plain": [
       "<Figure size 720x360 with 1 Axes>"
      ]
     },
     "metadata": {
      "needs_background": "light"
     },
     "output_type": "display_data"
    }
   ],
   "source": [
    "data_FFN = log.data\n",
    "\n",
    "fig, ax = plt.subplots(figsize=(10, 5))\n",
    "ax.errorbar(\n",
    "    data_jastrow[\"Energy\"].iters,\n",
    "    data_jastrow[\"Energy\"].Mean.real,\n",
    "    yerr=data_jastrow[\"Energy\"].Sigma,\n",
    "    label=\"Jastrow\",\n",
    ")\n",
    "ax.errorbar(\n",
    "    data_FFN[\"Energy\"].iters,\n",
    "    data_FFN[\"Energy\"].Mean.real,\n",
    "    yerr=data_FFN[\"Energy\"].Sigma,\n",
    "    label=\"FFN\",\n",
    ")\n",
    "ax.axhline([eig_vals[0]], xmin=0, xmax=300, color=\"black\", label=\"Exact\")\n",
    "ax.legend()\n",
    "\n",
    "ax.set_xlabel(\"Iterations\")\n",
    "ax.set_ylabel(\"Energy (Re)\")\n"
   ]
  },
  {
   "cell_type": "markdown",
   "id": "c45424d8",
   "metadata": {},
   "source": [
    "The plateaux in the figure corresponds to a configuration of bosonic levels where all \"sites\" are in the ground state but one. Getting out of that plateaux is difficult and requires changing the learning rate or the initial set of parameters."
   ]
  },
  {
   "cell_type": "markdown",
   "metadata": {},
   "source": [
    "### 6.1 Increasing the features\n",
    "\n",
    "We can try to use more _neurons_ in the dense layer to see if we can get a better result.\n",
    "This can be done simply by instantiating the `FFN` model again with a larger `alpha`."
   ]
  },
  {
   "cell_type": "code",
   "execution_count": 69,
   "metadata": {},
   "outputs": [
    {
     "name": "stderr",
     "output_type": "stream",
     "text": [
      "100%|██████████| 300/300 [00:02<00:00, 135.32it/s, Energy=6.2412 ± 0.0061 [σ²=0.0353]]\n"
     ]
    },
    {
     "name": "stdout",
     "output_type": "stream",
     "text": [
      "Optimized energy: 6.2452 ± 0.0093 [σ²=0.1007] \n",
      "Relative error: 99.27%\n"
     ]
    }
   ],
   "source": [
    "# it is easy here to pass the hyper-parameter value\n",
    "model = FFN(alpha=2)\n",
    "\n",
    "sampler = nk.sampler.ExactSampler(hi)\n",
    "\n",
    "vstate = nk.vqs.MCState(sampler, model, n_samples=2**10)\n",
    "\n",
    "optimizer = nk.optimizer.Sgd(learning_rate=0.05)\n",
    "\n",
    "# Notice the use, again of Stochastic Reconfiguration, which considerably improves the optimisation\n",
    "gs = nk.driver.VMC(\n",
    "    H,\n",
    "    optimizer,\n",
    "    variational_state=vstate,\n",
    "    preconditioner=nk.optimizer.SR(diag_shift=0.1),\n",
    ")\n",
    "gs.run(n_iter=300, out=log)\n",
    "\n",
    "ffn_energy = vstate.expect(H)\n",
    "error = abs((ffn_energy.mean - eig_vals[0]) / eig_vals[0])\n",
    "print(f\"Optimized energy: {ffn_energy} \\nRelative error: {error*100:.2f}%\")\n"
   ]
  },
  {
   "cell_type": "markdown",
   "metadata": {},
   "source": [
    "This is the best we can do without taking further steps to optimize the learning rate and stochastic gradient descent iterations, which will require more resources."
   ]
  },
  {
   "cell_type": "markdown",
   "id": "691675e4",
   "metadata": {},
   "source": [
    "Clearly we can run for longer, by starting from the current `vstate`"
   ]
  },
  {
   "cell_type": "code",
   "execution_count": 63,
   "id": "527e7647",
   "metadata": {},
   "outputs": [
    {
     "name": "stderr",
     "output_type": "stream",
     "text": [
      "100%|██████████| 300/300 [00:01<00:00, 152.96it/s, Energy=6.2516 ± 0.0012 [σ²=0.0014]]         \n"
     ]
    },
    {
     "name": "stdout",
     "output_type": "stream",
     "text": [
      "Optimized energy: 6.2527 ± 0.0015 [σ²=0.0026] \n",
      "Relative error: 99.51%\n"
     ]
    }
   ],
   "source": [
    "gs.run(n_iter=300, out=log)\n",
    "\n",
    "ffn_energy = vstate.expect(H)\n",
    "error = abs((ffn_energy.mean - eig_vals[0]) / eig_vals[0])\n",
    "print(f\"Optimized energy: {ffn_energy} \\nRelative error: {error*100:.2f}%\")"
   ]
  },
  {
   "cell_type": "markdown",
   "id": "16864b46",
   "metadata": {},
   "source": [
    "Doubling the optimization iterations has halved the relative error! The very small variance again indicates that the state has a probability distribution peaked on a single state"
   ]
  },
  {
   "cell_type": "markdown",
   "id": "37bfbc77",
   "metadata": {},
   "source": [
    "We can visualize the ground state using `vstate.to_array()` to expand the wave function on the computational basis of states"
   ]
  },
  {
   "cell_type": "code",
   "execution_count": 68,
   "id": "e20a58d9",
   "metadata": {},
   "outputs": [
    {
     "data": {
      "text/plain": [
       "<matplotlib.legend.Legend at 0x7f41384cd9d0>"
      ]
     },
     "execution_count": 68,
     "metadata": {},
     "output_type": "execute_result"
    },
    {
     "data": {
      "image/png": "[encoded data removed]",
      "text/plain": [
       "<Figure size 720x360 with 1 Axes>"
      ]
     },
     "metadata": {
      "needs_background": "light"
     },
     "output_type": "display_data"
    }
   ],
   "source": [
    "fig, ax = plt.subplots(figsize=(10,5))\n",
    "ax.bar(np.arange(0,hi.n_states),np.abs(vstate.to_array()),label=\"FNNmodel\")\n",
    "ax.set_xlim([0,49])\n",
    "ax.set_xlabel(\"basis coordinate\")\n",
    "ax.set_ylabel(r\"$\\mid \\psi \\mid$\")\n",
    "ax.legend(loc=0)"
   ]
  },
  {
   "cell_type": "markdown",
   "id": "0b8df244",
   "metadata": {},
   "source": [
    "**Note**: sometimes the FNN ansatz gets stuck on a parameter set that represent the state where only the one \"site\" is not in the $|0\\rangle$ state."
   ]
  },
  {
   "cell_type": "code",
   "execution_count": 67,
   "id": "8bf32a60",
   "metadata": {},
   "outputs": [
    {
     "data": {
      "image/png": "[encoded data removed]",
      "text/plain": [
       "<Figure size 2160x576 with 6 Axes>"
      ]
     },
     "metadata": {
      "needs_background": "light"
     },
     "output_type": "display_data"
    }
   ],
   "source": [
    "fig, ax = plt.subplots(ncols=N,figsize=(30,8))\n",
    "for i,axi in enumerate(ax):\n",
    "    axi.plot(vstate.samples[:,:,i].flatten(), '.', label=f\"site {i}\")\n",
    "    axi.set_ylim(-0.1,Lambda-0.9)\n",
    "    axi.legend()"
   ]
  },
  {
   "cell_type": "markdown",
   "metadata": {},
   "source": [
    "## 7. Autoregressive models\n",
    "\n",
    "In [this paper](https://arxiv.org/abs/2108.02942), an autoregressive flow model was used to parametrize the modulus of the wave function, while a fully-connected layer was used for the phase. Although the paper consider matrices in the coordinate basis, we here continue using the discrete Fock basis.\n",
    "\n",
    "Autoregressive models are included in `netket`, together with direct samplers for their conditional distributions (see [this link](https://www.netket.org/docs/_generated/models/netket.models.ARNNDense.html#netket-models-arnndense) for a fully-connected autoregressive model)"
   ]
  },
  {
   "cell_type": "code",
   "execution_count": 49,
   "metadata": {},
   "outputs": [],
   "source": [
    "model = nk.models.ARNNDense(hilbert=hi, layers=3, features=10)\n",
    "\n",
    "# the autoregressive model has an exact sampler because of the conditional prob\n",
    "sampler = nk.sampler.ARDirectSampler(hi)\n",
    "\n",
    "# With direct sampling, we don't need many samples in each step to form a\n",
    "# Markov chain, and we don't need to discard samples\n",
    "vstate = nk.vqs.MCState(sampler, model, n_samples=2**6)\n"
   ]
  },
  {
   "cell_type": "code",
   "execution_count": 50,
   "metadata": {},
   "outputs": [
    {
     "name": "stdout",
     "output_type": "stream",
     "text": [
      "Number of parameters (ARNNDense): 5544\n"
     ]
    }
   ],
   "source": [
    "print(f\"Number of parameters (ARNNDense): {vstate.n_parameters}\")"
   ]
  },
  {
   "cell_type": "markdown",
   "metadata": {},
   "source": [
    "Then we can call our driver as before"
   ]
  },
  {
   "cell_type": "code",
   "execution_count": 51,
   "metadata": {},
   "outputs": [
    {
     "name": "stderr",
     "output_type": "stream",
     "text": [
      "100%|██████████| 1000/1000 [00:14<00:00, 67.15it/s, Energy=3.150e+00 ± nan [σ²=0.000e+00]]      \n"
     ]
    },
    {
     "name": "stdout",
     "output_type": "stream",
     "text": [
      "Optimized energy: 3.150e+00 ± nan [σ²=0.000e+00] \n",
      "Relative error: 0.52%\n"
     ]
    }
   ],
   "source": [
    "optimizer = nk.optimizer.Sgd(learning_rate=0.1)\n",
    "preconditioner = nk.optimizer.SR(diag_shift=0.1)\n",
    "\n",
    "# Notice the use, again of Stochastic Reconfiguration, which considerably improves the optimisation\n",
    "gs = nk.driver.VMC(\n",
    "    H, optimizer, variational_state=vstate, preconditioner=preconditioner\n",
    ")\n",
    "\n",
    "# logging and running\n",
    "log = nk.logging.RuntimeLog()\n",
    "gs.run(n_iter=1000, out=log)\n",
    "\n",
    "arnn_energy = vstate.expect(H)\n",
    "error = abs((arnn_energy.mean - eig_vals[0]) / eig_vals[0])\n",
    "print(f\"Optimized energy: {arnn_energy} \\nRelative error: {error*100:.2f}%\")\n"
   ]
  },
  {
   "cell_type": "markdown",
   "metadata": {},
   "source": [
    "## 8. Measuring Other Properties\n",
    "\n",
    "Once the model has been optimized, we can of course measure also other observables that are not the energy. For example, we could measure the generators of the gauge transformations.\n",
    "\n",
    "We could also use a larger number of samples to have a sufficiently low error bar on their measurement, by changing `vstate.n_samples` on the fly."
   ]
  },
  {
   "cell_type": "markdown",
   "metadata": {},
   "source": [
    "The Casimir operator for the gauge group is defined using a combination of $\\hat{a}^\\dagger_I$ and $\\hat{a}_I$ for each boson. We are assuming that sites 0, 1, and 2 are for the 3 gauge dof of one matrix and site 3, 4, and 5 are for the other matrix. Given this assignment we can write\n",
    "\n",
    "$$ \\hat{G}_{\\alpha}=i \\sum_{\\beta, \\gamma, I} f_{\\alpha \\beta \\gamma} \\hat{a}_{I \\beta}^{\\dagger} \\hat{a}_{I \\gamma} $$\n",
    "\n",
    "using the matrices on the 6 bosonic sites defined at the beginning:"
   ]
  },
  {
   "cell_type": "code",
   "execution_count": 52,
   "metadata": {},
   "outputs": [],
   "source": [
    "g_list = [0] * 3\n",
    "g_list[0] = 1j * (\n",
    "    create(hi, 1) * destroy(hi, 2)\n",
    "    - create(hi, 2) * destroy(hi, 1)\n",
    "    + create(hi, 4) * destroy(hi, 5)\n",
    "    - create(hi, 5) * destroy(hi, 4)\n",
    ")\n",
    "g_list[1] = 1j * (\n",
    "    create(hi, 2) * destroy(hi, 0)\n",
    "    - create(hi, 0) * destroy(hi, 2)\n",
    "    + create(hi, 5) * destroy(hi, 3)\n",
    "    - create(hi, 3) * destroy(hi, 5)\n",
    ")\n",
    "g_list[2] = 1j * (\n",
    "    create(hi, 0) * destroy(hi, 1)\n",
    "    - create(hi, 1) * destroy(hi, 0)\n",
    "    + create(hi, 3) * destroy(hi, 4)\n",
    "    - create(hi, 4) * destroy(hi, 3)\n",
    ")\n",
    "G = sum([g * g for g in g_list])\n"
   ]
  },
  {
   "cell_type": "markdown",
   "metadata": {},
   "source": [
    "We can sample 1024 times to get a more accurate result. We expect to find zero if the ground state is gauge invariant"
   ]
  },
  {
   "cell_type": "code",
   "execution_count": 53,
   "metadata": {},
   "outputs": [
    {
     "data": {
      "text/plain": [
       "0.000e+00+0.000e+00j ± nan [σ²=0.000e+00]"
      ]
     },
     "execution_count": 53,
     "metadata": {},
     "output_type": "execute_result"
    }
   ],
   "source": [
    "vstate.n_samples = 2**10\n",
    "vstate.expect(G)"
   ]
  },
  {
   "cell_type": "markdown",
   "id": "ced2261f",
   "metadata": {},
   "source": [
    "## 9. Continuous Hilbert space"
   ]
  },
  {
   "cell_type": "markdown",
   "id": "e0b35f05",
   "metadata": {},
   "source": [
    "We can solve the same problem working in position space instead of in the Fock space of the creation and annihilation operators. We first have to change the Hilbert space from a discrete one to a continuous one in `netket`. Then we need to rewrite our Hamiltonian operator using the position and momentum local operators.\n",
    "\n",
    "Matrix models do not have space, nor they have a \"lattice\" structure. However, at the beginning of this tutorial we used a graph (set) of lattice points to be able to tell `netket` that we had independent bosonic degrees of freedom on each site, and to make it easy to implement symmetric ansatze.\n",
    "\n",
    "For the continuous Hilbert space we will have to be similarly creative in using the abstract `nk.hilbet.Particle` space for each of our matrices and interpret the 3 degrees of freedom of each matrix as different \"spatial\" dimensions."
   ]
  },
  {
   "cell_type": "code",
   "execution_count": null,
   "id": "085658ea",
   "metadata": {},
   "outputs": [],
   "source": []
  }
 ],
 "metadata": {
  "interpreter": {
   "hash": "6af1ff007a635e245b448dcbef332223f87a99a2750ef372d5ae20a823277492"
  },
  "kernelspec": {
   "display_name": "Python 3.9.6 64-bit ('netket': conda)",
   "name": "python3"
  },
  "language_info": {
   "codemirror_mode": {
    "name": "ipython",
    "version": 3
   },
   "file_extension": ".py",
   "mimetype": "text/x-python",
   "name": "python",
   "nbconvert_exporter": "python",
   "pygments_lexer": "ipython3",
   "version": "3.9.6"
  }
 },
 "nbformat": 4,
 "nbformat_minor": 5
}
